{
 "cells": [
  {
   "cell_type": "code",
   "execution_count": null,
   "metadata": {},
   "outputs": [],
   "source": [
    "import os\n",
    "import pprint\n",
    "\n",
    "import numpy as np\n",
    "import sklearn.metrics\n",
    "\n",
    "from keras.callbacks import EarlyStopping\n",
    "\n",
    "from models import *\n",
    "\n",
    "PATCH_HEIGHT = 28\n",
    "PATCH_WIDTH = 28\n",
    "\n",
    "data_dir = 'data'\n",
    "if not os.path.exists('checkpoints'):\n",
    "    os.mkdir('checkpoints')\n",
    "if not os.path.exists('logs'):\n",
    "    os.mkdir('logs')\n",
    "\n",
    "pp = pprint.PrettyPrinter(indent=4)"
   ]
  },
  {
   "cell_type": "code",
   "execution_count": null,
   "metadata": {},
   "outputs": [],
   "source": [
    "ct_train = np.load(os.path.join(data_dir, 'ct_train.npy'))\n",
    "pet_train = np.load(os.path.join(data_dir, 'pet_train.npy'))\n",
    "y_train = np.load(os.path.join(data_dir, 'y_patches_train.npy'))\n",
    "\n",
    "ct_test = np.load(os.path.join(data_dir, 'ct_test.npy'))\n",
    "pet_test = np.load(os.path.join(data_dir, 'pet_test.npy'))\n",
    "y_test = np.load(os.path.join(data_dir, 'y_patches_test.npy'))\n",
    "\n",
    "BIG_PATCH_HEIGHT = ct_train.shape[1]\n",
    "BIG_PATCH_WIDTH = ct_train.shape[2]\n",
    "BIG_LABEL_HEIGHT = y_train.shape[1]\n",
    "BIG_LABEL_WIDTH = y_train.shape[2]\n",
    "\n",
    "def get_center_x_window(height, width):\n",
    "    return (BIG_PATCH_HEIGHT - height) // 2, (BIG_PATCH_WIDTH - width) // 2\n",
    "\n",
    "def get_center_y_window(height, width):\n",
    "    return (BIG_LABEL_HEIGHT - height) // 2, (BIG_LABEL_WIDTH - width) // 2\n",
    "\n",
    "def get_train(mode=None, subshape=(PATCH_HEIGHT, PATCH_WIDTH)):\n",
    "    if subshape is None:\n",
    "        if mode == 'ct':\n",
    "            return ct_train\n",
    "        elif mode == 'pet':\n",
    "            return pet_train\n",
    "        else:\n",
    "            return [ct_train, pet_train]\n",
    "    \n",
    "    trim = subshape[0] % 2 == 1\n",
    "    \n",
    "    w = get_center_x_window(subshape[0], subshape[1])\n",
    "    if mode == 'ct':\n",
    "        return ct_train[:, w[0]+trim:-w[0], w[1]+trim:-w[1], :]\n",
    "    elif mode == 'pet':\n",
    "        return pet_train[:, w[0]+trim:-w[0], w[1]+trim:-w[1], :]\n",
    "    else:\n",
    "        return [ct_train[:, w[0]+trim:-w[0], w[1]+trim:-w[1], :], pet_train[:, w[0]+trim:-w[0], w[1]+trim:-w[1], :]]\n",
    "\n",
    "def get_test(mode=None, subshape=(PATCH_HEIGHT, PATCH_WIDTH)):\n",
    "    if subshape is None:\n",
    "        if mode == 'ct':\n",
    "            return ct_test\n",
    "        elif mode == 'pet':\n",
    "            return pet_test\n",
    "        else:\n",
    "            return [ct_test, pet_test]\n",
    "    \n",
    "    trim = subshape[0] % 2 == 1\n",
    "\n",
    "    w = get_center_x_window(subshape[0], subshape[1])\n",
    "    if mode == 'ct':\n",
    "        return ct_test[:, w[0]+trim:-w[0], w[1]+trim:-w[1], :]\n",
    "    elif mode == 'pet':\n",
    "        return pet_test[:, w[0]+trim:-w[0], w[1]+trim:-w[1], :]\n",
    "    else:\n",
    "        return [ct_test[:, w[0]+trim:-w[0], w[1]+trim:-w[1], :], pet_test[:, w[0]+trim:-w[0], w[1]+trim:-w[1], :]]\n",
    "\n",
    "def get_labels(mode=None, subshape=(0, 0), flatten=False):\n",
    "    if subshape is None:\n",
    "        if mode == 'train':\n",
    "            return y_train\n",
    "        else:\n",
    "            return y_test\n",
    "        \n",
    "    trim = subshape[0] % 2 == 1\n",
    "    \n",
    "    w = get_center_y_window(subshape[0], subshape[1])\n",
    "    if mode == 'train':\n",
    "        if subshape == (0, 0):\n",
    "            return y_train[:, w[0], w[1], :]\n",
    "        elif flatten:\n",
    "            return np.reshape(y_train[:, w[0]+trim:-w[0], w[1]+trim:-w[1], :], (y_train.shape[0], (subshape[0] - trim) * (subshape[1] - trim)))\n",
    "        else:\n",
    "            return y_train[:, w[0]+trim:-w[0], w[1]+trim:-w[1], :]\n",
    "    else:\n",
    "        if subshape == (0, 0):\n",
    "            return y_test[:, w[0], w[1], :]\n",
    "        elif flatten:\n",
    "            return np.reshape(y_test[:, w[0]+trim:-w[0], w[1]+trim:-w[1], :], (y_test.shape[0], (subshape[0] - trim) * (subshape[1] - trim)))\n",
    "        else:\n",
    "            return y_test[:, w[0]+trim:-w[0], w[1]+trim:-w[1], :]"
   ]
  },
  {
   "cell_type": "code",
   "execution_count": null,
   "metadata": {},
   "outputs": [],
   "source": [
    "def confusion_matrix(y_true, y_pred):\n",
    "    num_targets = y_true.shape[0]\n",
    "    y_true_targets = (y_true == 1.).reshape((num_targets, -1))\n",
    "    y_pred_targets = (y_pred >= 0.5).reshape((num_targets, -1))\n",
    "    return sklearn.metrics.confusion_matrix(y_true_targets, y_pred_targets)\n",
    "\n",
    "def accuracy(y_true, y_pred):\n",
    "    num_targets = y_true.shape[0]\n",
    "    y_true_targets = (y_true == 1.).reshape((num_targets, -1))\n",
    "    y_pred_targets = (y_pred >= 0.5).reshape((num_targets, -1))\n",
    "    return sklearn.metrics.accuracy_score(y_true_targets, y_pred_targets)\n",
    "\n",
    "def f1(y_true, y_pred):\n",
    "    c_matrix = confusion_matrix(y_true, y_pred)\n",
    "    if c_matrix.shape != (2, 2):\n",
    "        raise NotImplementedError(f'F1 not available for confusion matrix of shape {c_matrix.shape}')\n",
    "    tp = c_matrix[1][1]\n",
    "    fp = c_matrix[0][1]\n",
    "    fn = c_matrix[1][0]\n",
    "    return 2 * tp / (2 * tp + fn + fp)"
   ]
  },
  {
   "cell_type": "code",
   "execution_count": null,
   "metadata": {},
   "outputs": [],
   "source": [
    "def train_model(model_fn, name, batch_size=32, epochs=8, patience=2, mode=None, val=True,\n",
    "                x_subshape=(PATCH_HEIGHT, PATCH_WIDTH), y_subshape=(0, 0), return_f1=True):\n",
    "    print('Train...')\n",
    "\n",
    "    best_model_path = os.path.join('checkpoints', f'best_model_{name}.h5')\n",
    "    log_dir = os.path.join('logs', f'{name}')\n",
    "\n",
    "    if not os.path.exists(log_dir):\n",
    "        os.mkdir(log_dir)\n",
    "\n",
    "    callbacks = []\n",
    "    \n",
    "    if val:\n",
    "        callbacks.append(EarlyStopping(monitor='val_acc', patience=patience))\n",
    "    \n",
    "    model = model_fn()\n",
    "    model.fit(get_train(mode, subshape=x_subshape),\n",
    "              get_labels('train', subshape=y_subshape),\n",
    "              batch_size=batch_size,\n",
    "              epochs=epochs,\n",
    "              validation_split=0.1 if val else 0.0,\n",
    "              verbose=1,\n",
    "              shuffle=True,\n",
    "              callbacks=callbacks)\n",
    "    preds = model.predict(get_test(mode, subshape=x_subshape))\n",
    "    \n",
    "    acc_score = accuracy(get_labels('test', subshape=y_subshape), preds)\n",
    "    print(f'Acc: {acc_score}')\n",
    "    \n",
    "    if return_f1:\n",
    "        f1_score = f1(get_labels('test', subshape=y_subshape), preds)\n",
    "        print(f'F1: {f1_score}')\n",
    "    else:\n",
    "        f1_score = None\n",
    "\n",
    "    print('\\n\\n')\n",
    "    return model, f1_score, acc_score\n",
    "\n",
    "def train_n_sessions(model_fn, name, n, mode=None, save_best_f1=True, **kwargs):\n",
    "    f1s = []\n",
    "    accs = []\n",
    "    best_f1 = -1\n",
    "    \n",
    "    for i in range(n):\n",
    "        print(f'Round {i + 1} out of {n}')\n",
    "        print('-' * 101)\n",
    "        model, f1, acc = train_model(model_fn, name, mode=mode, **kwargs)\n",
    "        f1s.append(f1)\n",
    "        accs.append(acc)\n",
    "        \n",
    "        if save_best_f1 and f1 > best_f1:\n",
    "            best_f1 = f1\n",
    "            model.save(f'best_{name}_model.h5')\n",
    "    \n",
    "    return f1s, accs"
   ]
  },
  {
   "cell_type": "markdown",
   "metadata": {},
   "source": [
    "# Type 1: Feature-Level Fusion"
   ]
  },
  {
   "cell_type": "code",
   "execution_count": null,
   "metadata": {},
   "outputs": [],
   "source": [
    "f1s, accs = train_n_sessions(get_type_1_model, 'type_I', 10, epochs=5, val=False)"
   ]
  },
  {
   "cell_type": "code",
   "execution_count": null,
   "metadata": {
    "scrolled": false
   },
   "outputs": [],
   "source": [
    "pp.pprint(f1s)\n",
    "pp.pprint(accs)"
   ]
  },
  {
   "cell_type": "markdown",
   "metadata": {},
   "source": [
    "# Type 2: Classifier-Level Fusion"
   ]
  },
  {
   "cell_type": "code",
   "execution_count": null,
   "metadata": {},
   "outputs": [],
   "source": [
    "f1s_2, accs_2 = train_n_sessions(get_type_2_model, 'type_II', 10, epochs=5, val=False)"
   ]
  },
  {
   "cell_type": "code",
   "execution_count": null,
   "metadata": {},
   "outputs": [],
   "source": [
    "pp.pprint(f1s_2)\n",
    "pp.pprint(accs_2)"
   ]
  },
  {
   "cell_type": "markdown",
   "metadata": {},
   "source": [
    "# Type 3: Decision-Level Fusion"
   ]
  },
  {
   "cell_type": "code",
   "execution_count": null,
   "metadata": {},
   "outputs": [],
   "source": [
    "f1s_3, accs_3 = train_n_sessions(get_type_3_model, 'type_III', 10, epochs=5, val=False)"
   ]
  },
  {
   "cell_type": "code",
   "execution_count": null,
   "metadata": {},
   "outputs": [],
   "source": [
    "pp.pprint(f1s_3)\n",
    "pp.pprint(accs_3)"
   ]
  },
  {
   "cell_type": "markdown",
   "metadata": {},
   "source": [
    "# Baseline: Single-Modality CNNs"
   ]
  },
  {
   "cell_type": "code",
   "execution_count": null,
   "metadata": {},
   "outputs": [],
   "source": [
    "f1s_c, accs_c = train_n_sessions(get_single_modality_model, 'ct', 10, mode='ct', epochs=5, val=False)"
   ]
  },
  {
   "cell_type": "code",
   "execution_count": null,
   "metadata": {
    "scrolled": true
   },
   "outputs": [],
   "source": [
    "pp.pprint(f1s_c)\n",
    "pp.pprint(accs_c)"
   ]
  },
  {
   "cell_type": "code",
   "execution_count": null,
   "metadata": {},
   "outputs": [],
   "source": [
    "f1s_p, accs_p = train_n_sessions(get_single_modality_model, 'pet', 10, mode='pet', epochs=5, val=False)"
   ]
  },
  {
   "cell_type": "code",
   "execution_count": null,
   "metadata": {
    "scrolled": true
   },
   "outputs": [],
   "source": [
    "pp.pprint(f1s_p)\n",
    "pp.pprint(accs_p)"
   ]
  },
  {
   "cell_type": "markdown",
   "metadata": {},
   "source": [
    "# Cascaded CNNs"
   ]
  },
  {
   "cell_type": "code",
   "execution_count": null,
   "metadata": {},
   "outputs": [],
   "source": [
    "input_stream, _, _ = train_model(lambda: get_stream_model(2 * PATCH_HEIGHT - d_i, PATCH_HEIGHT, mode='pet', maxout=True, dropout=True),\n",
    "                           'input_stream', epochs=5, mode='pet', val=False,\n",
    "                           x_subshape=None, y_subshape=None, return_f1=False)\n",
    "input_stream.save('input_stream_pet.h5')"
   ]
  },
  {
   "cell_type": "code",
   "execution_count": null,
   "metadata": {},
   "outputs": [],
   "source": [
    "local_stream, _, _ = train_model(lambda: get_stream_model(2 * PATCH_HEIGHT - d_l, PATCH_HEIGHT - d_l, mode='pet', maxout=True, dropout=True),\n",
    "                           'local_stream', epochs=5, mode='pet', val=False,\n",
    "                           x_subshape=(2 * PATCH_HEIGHT - d_l, 2 * PATCH_WIDTH - d_l),\n",
    "                           y_subshape=(PATCH_HEIGHT - d_l, PATCH_WIDTH - d_l), return_f1=False)\n",
    "local_stream.save('local_stream_pet.h5')"
   ]
  },
  {
   "cell_type": "code",
   "execution_count": null,
   "metadata": {},
   "outputs": [],
   "source": [
    "mf_stream, _, _ = train_model(lambda: get_stream_model(2 * PATCH_HEIGHT - d_mf, PATCH_HEIGHT - d_mf, mode='pet', maxout=True, dropout=True),\n",
    "                        'mf_stream', epochs=5, val=False, mode='pet',\n",
    "                        x_subshape=(2 * PATCH_HEIGHT - d_mf, 2 * PATCH_WIDTH - d_mf),\n",
    "                        y_subshape=(PATCH_HEIGHT - d_mf, PATCH_WIDTH - d_mf), return_f1=False)\n",
    "mf_stream.save('mf_stream_pet.h5')"
   ]
  },
  {
   "cell_type": "code",
   "execution_count": null,
   "metadata": {},
   "outputs": [],
   "source": [
    "f1s_input, accs_input = train_n_sessions(\n",
    "    lambda: get_two_path_cascade_input(get_stream_model, mode='pet', maxout=True, dropout=True), 'mf', 10,\n",
    "    epochs=5, x_subshape=None, mode='pet', val=False)"
   ]
  },
  {
   "cell_type": "code",
   "execution_count": null,
   "metadata": {},
   "outputs": [],
   "source": [
    "pp.pprint(f1s_input)\n",
    "pp.pprint(accs_input)"
   ]
  },
  {
   "cell_type": "code",
   "execution_count": null,
   "metadata": {
    "scrolled": false
   },
   "outputs": [],
   "source": [
    "f1s_local, accs_local = train_n_sessions(\n",
    "    lambda: get_two_path_cascade_local(get_stream_model, mode='pet', maxout=True, dropout=True), 'local', 10,\n",
    "    epochs=5, x_subshape=(2 * PATCH_HEIGHT - d_l, 2 * PATCH_WIDTH - d_l), mode='pet', val=False)"
   ]
  },
  {
   "cell_type": "code",
   "execution_count": null,
   "metadata": {},
   "outputs": [],
   "source": [
    "pp.pprint(f1s_local)\n",
    "pp.pprint(accs_local)"
   ]
  },
  {
   "cell_type": "code",
   "execution_count": null,
   "metadata": {},
   "outputs": [],
   "source": [
    "f1s_mf, accs_mf = train_n_sessions(\n",
    "    lambda: get_two_path_cascade_mf(get_stream_model, mode='pet', maxout=True, dropout=True), 'mf', 10,\n",
    "    epochs=5, x_subshape=(2 * PATCH_HEIGHT - d_mf, 2 * PATCH_WIDTH - d_mf), mode='pet', val=False)"
   ]
  },
  {
   "cell_type": "code",
   "execution_count": null,
   "metadata": {},
   "outputs": [],
   "source": [
    "pp.pprint(f1s_mf)\n",
    "pp.pprint(accs_mf)"
   ]
  },
  {
   "cell_type": "code",
   "execution_count": null,
   "metadata": {},
   "outputs": [],
   "source": []
  }
 ],
 "metadata": {
  "kernelspec": {
   "display_name": "Python 3",
   "language": "python",
   "name": "python3"
  },
  "language_info": {
   "codemirror_mode": {
    "name": "ipython",
    "version": 3
   },
   "file_extension": ".py",
   "mimetype": "text/x-python",
   "name": "python",
   "nbconvert_exporter": "python",
   "pygments_lexer": "ipython3",
   "version": "3.6.3"
  }
 },
 "nbformat": 4,
 "nbformat_minor": 2
}
