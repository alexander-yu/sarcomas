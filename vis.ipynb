{
 "cells": [
  {
   "cell_type": "code",
   "execution_count": null,
   "metadata": {},
   "outputs": [],
   "source": [
    "%matplotlib inline\n",
    "\n",
    "import os\n",
    "\n",
    "from keras import backend as K\n",
    "from keras.models import load_model\n",
    "\n",
    "import matplotlib.pyplot as plt\n",
    "import numpy as np\n",
    "\n",
    "from models import get_single_modality_model, get_stream_model, get_two_path_cascade_local, get_type_2_model\n",
    "\n",
    "data_dir = 'data'"
   ]
  },
  {
   "cell_type": "code",
   "execution_count": null,
   "metadata": {},
   "outputs": [],
   "source": [
    "pet_local = np.load(os.path.join(data_dir, 'pet_local_vis.npy'))\n",
    "ct = np.load(os.path.join(data_dir, 'ct_vis.npy'))\n",
    "pet = np.load(os.path.join(data_dir, 'pet_vis.npy'))\n",
    "y = np.load(os.path.join(data_dir, 'y_vis.npy'))\n",
    "ct_image = np.squeeze(np.load(os.path.join(data_dir, 'ct_image.npy')))\n",
    "pet_image = np.squeeze(np.load(os.path.join(data_dir, 'pet_image.npy')))\n",
    "y_image = np.squeeze(np.load(os.path.join(data_dir, 'y_image.npy')))"
   ]
  },
  {
   "cell_type": "code",
   "execution_count": null,
   "metadata": {},
   "outputs": [],
   "source": [
    "def segment(preds, name, ct=False):\n",
    "    preds = preds.reshape(pet_image.shape)\n",
    "    subplot_kw ={'adjustable': 'box-forced', 'aspect': 'equal'}\n",
    "    \n",
    "    if ct:\n",
    "        f, (ax1, ax2, ax3, ax4) = plt.subplots(1, 4, sharey=True, subplot_kw=subplot_kw)\n",
    "        ax1.imshow(ct_image)\n",
    "        ax2.imshow(pet_image)\n",
    "        ax3.imshow(preds)\n",
    "        ax4.imshow(y_image)        \n",
    "        \n",
    "        ax1.set_title('CT')\n",
    "        ax2.set_title('PET')\n",
    "        ax3.set_title('Prediction')\n",
    "        ax4.set_title('Label')\n",
    "\n",
    "    else:\n",
    "        f, (ax1, ax2, ax3) = plt.subplots(1, 3, sharey=True, subplot_kw=subplot_kw)\n",
    "        ax1.imshow(pet_image)\n",
    "        ax2.imshow(preds)\n",
    "        ax3.imshow(y_image)\n",
    "        \n",
    "        ax1.set_title('PET')\n",
    "        ax2.set_title('Prediction')\n",
    "        ax3.set_title('Label')\n",
    "    \n",
    "    f.savefig(f'{name}.png', bbox_inches='tight')\n",
    "    plt.show()\n",
    "\n",
    "def graph_filters(filters, name):\n",
    "    num_filters = len(filters)\n",
    "    subplot_kw = {'adjustable': 'box-forced', 'aspect': 'equal'}\n",
    "    \n",
    "    f, axes = plt.subplots(1, num_filters, sharey=True, subplot_kw=subplot_kw)\n",
    "    for i in range(num_filters):\n",
    "        ax = axes[i]\n",
    "        ax.imshow(filters[i])\n",
    "    \n",
    "    f.savefig(f'{name}.png', bbox_inches='tight')\n",
    "    plt.show()"
   ]
  },
  {
   "cell_type": "code",
   "execution_count": null,
   "metadata": {},
   "outputs": [],
   "source": [
    "def deprocess(x):\n",
    "    x -= x.mean()\n",
    "    x /= (x.std() + K.epsilon())\n",
    "    return x\n",
    "\n",
    "def get_vis_filter_step(input_img, layer_filter):\n",
    "    loss = K.mean(layer_filter)\n",
    "    grads = K.gradients(loss, input_img)\n",
    "    grads = [grad / (K.sqrt(K.mean(K.square(grad))) + K.epsilon()) if grad is not None else K.constant(0) for grad in grads]\n",
    "    return K.function(input_img, [loss] + grads)\n",
    "\n",
    "def vis_filter(vis_filter_step, num_iters, input_shape, num_inputs=1):\n",
    "    inputs = [(np.random.random(input_shape) - 0.5) * 2 * np.sqrt(3) for i in range(num_inputs)]\n",
    "    \n",
    "    for i in range(num_iters):\n",
    "        outputs = vis_filter_step(inputs)\n",
    "        loss = outputs[0]\n",
    "        grads = outputs[1:]\n",
    "        inputs = list(map(sum, zip(inputs, grads * 1)))\n",
    "        \n",
    "        if loss <= 0.:\n",
    "            break\n",
    "\n",
    "    return inputs, loss\n",
    "\n",
    "def vis_layer(model, layer, best=4, num_iters=20, print_every=10, input_i=None):\n",
    "    kept_filters = []\n",
    "    if isinstance(model.input, list):\n",
    "        input_shape = [1] + model.input[0].shape[1:].as_list()\n",
    "        num_inputs = len(model.input)\n",
    "    else:\n",
    "        input_shape = [1] + model.input.shape[1:].as_list()\n",
    "        num_inputs = 1\n",
    "        \n",
    "    if input_i is not None:\n",
    "        input_img = [model.input[input_i]]\n",
    "    elif not isinstance(model.input, list):\n",
    "        input_img = [model.input]\n",
    "    else:\n",
    "        input_img = model.input\n",
    "        \n",
    "    for i in range(layer.filters):\n",
    "        layer_filter = layer.output[:, :, :, i]\n",
    "        vis_filter_step = get_vis_filter_step(input_img, layer_filter)\n",
    "        \n",
    "        inputs, loss = vis_filter(vis_filter_step, num_iters, input_shape, num_inputs=num_inputs)\n",
    "        imgs = [deprocess(input_img) for input_img in inputs]\n",
    "        if loss > 0:\n",
    "            kept_filters.append((imgs, loss))\n",
    "        \n",
    "        if (i + 1) % print_every == 0:\n",
    "            print(f'{i + 1} Filters done')\n",
    "            \n",
    "    kept_filters.sort(key=lambda x: x[1], reverse=True)\n",
    "    \n",
    "    return kept_filters[:best]\n",
    "\n",
    "def vis_layers(model, layer_names, **kwargs):\n",
    "    layer_dict = {layer.name: layer for layer in model.layers}\n",
    "    filters_dict = {}\n",
    "    for layer_name in layer_names:\n",
    "        layer = layer_dict[layer_name]\n",
    "        best_filters = vis_layer(model, layer, **kwargs)\n",
    "        filters_dict[layer_name] = best_filters\n",
    "        print(f'Vis for layer {layer_name}')\n",
    "    \n",
    "    return filters_dict\n",
    "\n",
    "def get_best_filters(filter_dict, layer_names):\n",
    "    best_filters = []\n",
    "    for layer_name in layer_names:\n",
    "        best_filters.append(np.squeeze(filter_dict[layer_name][0][0][0]))\n",
    "    return best_filters"
   ]
  },
  {
   "cell_type": "code",
   "execution_count": null,
   "metadata": {},
   "outputs": [],
   "source": [
    "K.clear_session()\n",
    "model_II = get_type_2_model()\n",
    "model_II.load_weights('best_type_II_model.h5')"
   ]
  },
  {
   "cell_type": "code",
   "execution_count": null,
   "metadata": {},
   "outputs": [],
   "source": [
    "preds_II = model_II.predict([ct, pet]) >= 0.5\n",
    "segment(preds_II, 'type_II', ct=True)"
   ]
  },
  {
   "cell_type": "code",
   "execution_count": null,
   "metadata": {},
   "outputs": [],
   "source": [
    "ct_filters = vis_layers(model_II, [f'conv2d_{i}' for i in range(1, 5)], input_i=0, best=1)\n",
    "pet_filters = vis_layers(model_II, [f'conv2d_{i}' for i in range(5, 9)], input_i=1, best=1)\n",
    "best_type_II_filters = get_best_filters(ct_filters, [f'conv2d_{i}' for i in range(1, 5)]) + \\\n",
    "    get_best_filters(pet_filters, [f'conv2d_{i}' for i in range(5, 9)])\n",
    "graph_filters(best_type_II_filters, 'type_II_filters')"
   ]
  },
  {
   "cell_type": "code",
   "execution_count": null,
   "metadata": {},
   "outputs": [],
   "source": [
    "K.clear_session()\n",
    "model_pet = get_single_modality_model()\n",
    "model_pet.load_weights('best_pet_model.h5')"
   ]
  },
  {
   "cell_type": "code",
   "execution_count": null,
   "metadata": {},
   "outputs": [],
   "source": [
    "preds_pet = model_pet.predict(pet) >= 0.5\n",
    "segment(preds_pet, 'pet')"
   ]
  },
  {
   "cell_type": "code",
   "execution_count": null,
   "metadata": {},
   "outputs": [],
   "source": [
    "pet_only_filters = vis_layers(model_pet, [f'conv2d_{i}' for i in range(1, 5)], best=1)\n",
    "best_pet_only_filters = get_best_filters(pet_only_filters, [f'conv2d_{i}' for i in range(1, 5)])\n",
    "graph_filters(best_pet_only_filters, 'pet_filters')"
   ]
  },
  {
   "cell_type": "code",
   "execution_count": null,
   "metadata": {},
   "outputs": [],
   "source": [
    "K.clear_session()\n",
    "model_local = get_two_path_cascade_local(get_stream_model, mode='pet', maxout=True, dropout=False)\n",
    "model_local.load_weights('best_local_model.h5')"
   ]
  },
  {
   "cell_type": "code",
   "execution_count": null,
   "metadata": {},
   "outputs": [],
   "source": [
    "preds_local = model_local.predict(pet_local) >= 0.5\n",
    "segment(preds_local, 'local')"
   ]
  },
  {
   "cell_type": "code",
   "execution_count": null,
   "metadata": {},
   "outputs": [],
   "source": [
    "local_filters = vis_layers(model_local, [f'conv2d_{i}' for i in range(8, 14)], best=1)\n",
    "best_local_filters = get_best_filters(local_filters, [f'conv2d_{i}' for i in range(8, 14)])\n",
    "graph_filters(best_local_filters, 'local_filters')"
   ]
  },
  {
   "cell_type": "code",
   "execution_count": null,
   "metadata": {},
   "outputs": [],
   "source": [
    "K.clear_session()\n",
    "stream_model = get_stream_model(49, 21, mode='pet', n_feature_maps=2, maxout=True, dropout=False)\n",
    "stream_model.load_weights('local_stream_pet.h5')"
   ]
  },
  {
   "cell_type": "code",
   "execution_count": null,
   "metadata": {},
   "outputs": [],
   "source": [
    "stream_filters = vis_layers(stream_model, [f'conv2d_{i}' for i in range(1, 7)], best=1)\n",
    "best_stream_filters = get_best_filters(stream_filters, [f'conv2d_{i}' for i in range(1, 7)])\n",
    "graph_filters(best_stream_filters, 'stream_filters')"
   ]
  }
 ],
 "metadata": {
  "kernelspec": {
   "display_name": "Python 3",
   "language": "python",
   "name": "python3"
  },
  "language_info": {
   "codemirror_mode": {
    "name": "ipython",
    "version": 3
   },
   "file_extension": ".py",
   "mimetype": "text/x-python",
   "name": "python",
   "nbconvert_exporter": "python",
   "pygments_lexer": "ipython3",
   "version": "3.6.3"
  }
 },
 "nbformat": 4,
 "nbformat_minor": 2
}
