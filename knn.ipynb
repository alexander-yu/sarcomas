{
 "cells": [
  {
   "cell_type": "code",
   "execution_count": 3,
   "metadata": {},
   "outputs": [],
   "source": [
    "import os\n",
    "\n",
    "import numpy as np\n",
    "import sklearn.metrics\n",
    "import tensorflow as tf\n",
    "\n",
    "from sklearn.neighbors import KNeighborsClassifier\n",
    "\n",
    "PATCH_HEIGHT = 28\n",
    "PATCH_WIDTH = 28\n",
    "PATCH_FLAT_SHAPE = [-1, PATCH_HEIGHT * PATCH_WIDTH]\n",
    "\n",
    "data_dir = 'data'"
   ]
  },
  {
   "cell_type": "code",
   "execution_count": 4,
   "metadata": {},
   "outputs": [],
   "source": [
    "ct_train = np.load(os.path.join(data_dir, 'ct_train.npy'))\n",
    "pet_train = np.load(os.path.join(data_dir, 'pet_train.npy'))\n",
    "y_train = np.load(os.path.join(data_dir, 'y_train.npy'))\n",
    "ct_test = np.load(os.path.join(data_dir, 'ct_test.npy'))\n",
    "pet_test = np.load(os.path.join(data_dir, 'pet_test.npy'))\n",
    "y_test = np.load(os.path.join(data_dir, 'y_test.npy'))"
   ]
  },
  {
   "cell_type": "code",
   "execution_count": 5,
   "metadata": {},
   "outputs": [],
   "source": [
    "def confusion_matrix(y_true, y_pred):\n",
    "    y_true_targets = np.argmax(y_true, axis=1)\n",
    "    y_pred_targets = np.argmax(y_pred, axis=1)\n",
    "    return sklearn.metrics.confusion_matrix(y_true_targets, y_pred_targets)\n",
    "\n",
    "def accuracy(y_true, y_pred):\n",
    "    y_true_targets = np.argmax(y_true, axis=1)\n",
    "    y_pred_targets = np.argmax(y_pred, axis=1)\n",
    "    return sklearn.metrics.accuracy_score(y_true_targets, y_pred_targets)\n",
    "\n",
    "def f1(y_true, y_pred):\n",
    "    c_matrix = confusion_matrix(y_true, y_pred)\n",
    "    tp = c_matrix[1][1]\n",
    "    fp = c_matrix[0][1]\n",
    "    fn = c_matrix[1][0]\n",
    "    return 2 * tp / (2 * tp + fn + fp)"
   ]
  },
  {
   "cell_type": "code",
   "execution_count": 6,
   "metadata": {},
   "outputs": [],
   "source": [
    "def get_petct_flat(ct_patches, pet_patches):\n",
    "    ct_flat = tf.reshape(ct_patches, PATCH_FLAT_SHAPE)\n",
    "    pet_flat = tf.reshape(pet_patches, PATCH_FLAT_SHAPE)\n",
    "    petct_flat = tf.concat([ct_flat, pet_flat], axis=1)\n",
    "    with tf.Session() as sess:\n",
    "        return sess.run(petct_flat)"
   ]
  },
  {
   "cell_type": "code",
   "execution_count": 7,
   "metadata": {},
   "outputs": [],
   "source": [
    "petct_train = get_petct_flat(ct_train, pet_train)\n",
    "petct_test = get_petct_flat(ct_test, pet_test)"
   ]
  },
  {
   "cell_type": "code",
   "execution_count": 6,
   "metadata": {},
   "outputs": [
    {
     "data": {
      "text/plain": [
       "KNeighborsClassifier(algorithm='auto', leaf_size=30, metric='minkowski',\n",
       "           metric_params=None, n_jobs=1, n_neighbors=1, p=2,\n",
       "           weights='uniform')"
      ]
     },
     "execution_count": 6,
     "metadata": {},
     "output_type": "execute_result"
    }
   ],
   "source": [
    "model_1 = KNeighborsClassifier(1)\n",
    "model_1.fit(petct_train, y_train)"
   ]
  },
  {
   "cell_type": "code",
   "execution_count": 7,
   "metadata": {},
   "outputs": [],
   "source": [
    "y_preds_1 = model_1.predict(petct_test)\n",
    "f1_1 = f1(y_test, y_preds_1)\n",
    "accuracy_1 = accuracy(y_test, y_preds_1)"
   ]
  },
  {
   "cell_type": "code",
   "execution_count": 6,
   "metadata": {},
   "outputs": [
    {
     "name": "stdout",
     "output_type": "stream",
     "text": [
      "41338\n"
     ]
    }
   ],
   "source": [
    "print(len(y_train))"
   ]
  },
  {
   "cell_type": "code",
   "execution_count": 8,
   "metadata": {},
   "outputs": [
    {
     "name": "stdout",
     "output_type": "stream",
     "text": [
      "203\n",
      "204\n"
     ]
    }
   ],
   "source": [
    "results = []\n",
    "\n",
    "for i in range(203,205):\n",
    "    print(i)\n",
    "    model_1 = KNeighborsClassifier(i)\n",
    "    model_1.fit(petct_train, y_train)\n",
    "    y_preds_1 = model_1.predict(petct_test)\n",
    "    f1_1 = f1(y_test, y_preds_1)\n",
    "    acc_1 = accuracy(y_test, y_preds_1)\n",
    "    res = (acc_1, f1_1)\n",
    "    results.append(res)\n",
    "    "
   ]
  },
  {
   "cell_type": "code",
   "execution_count": 9,
   "metadata": {},
   "outputs": [
    {
     "name": "stdout",
     "output_type": "stream",
     "text": [
      "Neighbors = 0: accuracy:0.9007597340930674, f1:0.8965346534653466\n",
      "Neighbors = 1: accuracy:0.9007597340930674, f1:0.8964834076275384\n"
     ]
    }
   ],
   "source": [
    "for j in range(len(results)):\n",
    "    \n",
    "        a = \"Neighbors = {}: accuracy:{}, f1:{}\".format(j,results[j][0],results[j][1])\n",
    "        print(a)"
   ]
  },
  {
   "cell_type": "code",
   "execution_count": 8,
   "metadata": {},
   "outputs": [
    {
     "name": "stdout",
     "output_type": "stream",
     "text": [
      "0.868592245641\n",
      "0.880104463438\n"
     ]
    }
   ],
   "source": [
    "print(f1_1)\n",
    "print(accuracy_1)"
   ]
  },
  {
   "cell_type": "code",
   "execution_count": 9,
   "metadata": {},
   "outputs": [
    {
     "data": {
      "text/plain": [
       "KNeighborsClassifier(algorithm='auto', leaf_size=30, metric='minkowski',\n",
       "           metric_params=None, n_jobs=1, n_neighbors=4, p=2,\n",
       "           weights='uniform')"
      ]
     },
     "execution_count": 9,
     "metadata": {},
     "output_type": "execute_result"
    }
   ],
   "source": [
    "model_2 = KNeighborsClassifier(4)\n",
    "model_2.fit(petct_train, y_train)"
   ]
  },
  {
   "cell_type": "code",
   "execution_count": 10,
   "metadata": {},
   "outputs": [],
   "source": [
    "y_preds_2 = model_2.predict(petct_test)\n",
    "f1_2 = f1(y_test, y_preds_2)\n",
    "accuracy_2 = accuracy(y_test, y_preds_2)"
   ]
  },
  {
   "cell_type": "code",
   "execution_count": 11,
   "metadata": {},
   "outputs": [
    {
     "name": "stdout",
     "output_type": "stream",
     "text": [
      "0.882187579862\n",
      "0.890550807217\n"
     ]
    }
   ],
   "source": [
    "print(f1_2)\n",
    "print(accuracy_2)"
   ]
  },
  {
   "cell_type": "code",
   "execution_count": null,
   "metadata": {},
   "outputs": [],
   "source": []
  }
 ],
 "metadata": {
  "kernelspec": {
   "display_name": "Python 3",
   "language": "python",
   "name": "python3"
  },
  "language_info": {
   "codemirror_mode": {
    "name": "ipython",
    "version": 3
   },
   "file_extension": ".py",
   "mimetype": "text/x-python",
   "name": "python",
   "nbconvert_exporter": "python",
   "pygments_lexer": "ipython3",
   "version": "3.6.3"
  }
 },
 "nbformat": 4,
 "nbformat_minor": 2
}
