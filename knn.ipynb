{
 "cells": [
  {
   "cell_type": "code",
   "execution_count": null,
   "metadata": {},
   "outputs": [],
   "source": [
    "import os\n",
    "\n",
    "import numpy as np\n",
    "import sklearn.metrics\n",
    "import tensorflow as tf\n",
    "\n",
    "from sklearn.neighbors import KNeighborsClassifier\n",
    "\n",
    "PATCH_HEIGHT = 28\n",
    "PATCH_WIDTH = 28\n",
    "PATCH_FLAT_SHAPE = [-1, PATCH_HEIGHT * PATCH_WIDTH]\n",
    "\n",
    "data_dir = 'data'"
   ]
  },
  {
   "cell_type": "code",
   "execution_count": null,
   "metadata": {},
   "outputs": [],
   "source": [
    "ct_train = np.load(os.path.join(data_dir, 'ct_train.npy'))\n",
    "pet_train = np.load(os.path.join(data_dir, 'pet_train.npy'))\n",
    "y_train = np.load(os.path.join(data_dir, 'y_train.npy'))\n",
    "ct_test = np.load(os.path.join(data_dir, 'ct_test.npy'))\n",
    "pet_test = np.load(os.path.join(data_dir, 'pet_test.npy'))\n",
    "y_test = np.load(os.path.join(data_dir, 'y_test.npy'))"
   ]
  },
  {
   "cell_type": "code",
   "execution_count": null,
   "metadata": {},
   "outputs": [],
   "source": [
    "def confusion_matrix(y_true, y_pred):\n",
    "    y_true_targets = np.argmax(y_true, axis=1)\n",
    "    y_pred_targets = np.argmax(y_pred, axis=1)\n",
    "    return sklearn.metrics.confusion_matrix(y_true_targets, y_pred_targets)\n",
    "\n",
    "def accuracy(y_true, y_pred):\n",
    "    y_true_targets = np.argmax(y_true, axis=1)\n",
    "    y_pred_targets = np.argmax(y_pred, axis=1)\n",
    "    return sklearn.metrics.accuracy_score(y_true_targets, y_pred_targets)\n",
    "\n",
    "def f1(y_true, y_pred):\n",
    "    c_matrix = confusion_matrix(y_true, y_pred)\n",
    "    tp = c_matrix[1][1]\n",
    "    fp = c_matrix[0][1]\n",
    "    fn = c_matrix[1][0]\n",
    "    return 2 * tp / (2 * tp + fn + fp)"
   ]
  },
  {
   "cell_type": "code",
   "execution_count": null,
   "metadata": {},
   "outputs": [],
   "source": [
    "def get_petct_flat(ct_patches, pet_patches):\n",
    "    ct_flat = tf.reshape(ct_patches, PATCH_FLAT_SHAPE)\n",
    "    pet_flat = tf.reshape(pet_patches, PATCH_FLAT_SHAPE)\n",
    "    petct_flat = tf.concat([ct_flat, pet_flat], axis=1)\n",
    "    with tf.Session() as sess:\n",
    "        return sess.run(petct_flat)"
   ]
  },
  {
   "cell_type": "code",
   "execution_count": null,
   "metadata": {},
   "outputs": [],
   "source": [
    "petct_train = get_petct_flat(ct_train, pet_train)\n",
    "petct_test = get_petct_flat(ct_test, pet_test)"
   ]
  },
  {
   "cell_type": "code",
   "execution_count": null,
   "metadata": {},
   "outputs": [],
   "source": [
    "model_1 = KNeighborsClassifier(1)\n",
    "model_1.fit(petct_train, y_train)"
   ]
  },
  {
   "cell_type": "code",
   "execution_count": null,
   "metadata": {},
   "outputs": [],
   "source": [
    "y_preds_1 = model_1.predict(petct_test)\n",
    "f1_1 = f1(y_test, y_preds_1)\n",
    "accuracy_1 = accuracy(y_test, y_preds_1)"
   ]
  },
  {
   "cell_type": "code",
   "execution_count": null,
   "metadata": {},
   "outputs": [],
   "source": [
    "print(len(y_train))"
   ]
  },
  {
   "cell_type": "code",
   "execution_count": null,
   "metadata": {},
   "outputs": [],
   "source": [
    "results = []\n",
    "\n",
    "for i in range(203,205):\n",
    "    print(i)\n",
    "    model_1 = KNeighborsClassifier(i)\n",
    "    model_1.fit(petct_train, y_train)\n",
    "    y_preds_1 = model_1.predict(petct_test)\n",
    "    f1_1 = f1(y_test, y_preds_1)\n",
    "    acc_1 = accuracy(y_test, y_preds_1)\n",
    "    res = (acc_1, f1_1)\n",
    "    results.append(res)\n",
    "    "
   ]
  },
  {
   "cell_type": "code",
   "execution_count": null,
   "metadata": {},
   "outputs": [],
   "source": [
    "for j in range(len(results)):\n",
    "    \n",
    "        a = \"Neighbors = {}: accuracy:{}, f1:{}\".format(j,results[j][0],results[j][1])\n",
    "        print(a)"
   ]
  },
  {
   "cell_type": "code",
   "execution_count": null,
   "metadata": {},
   "outputs": [],
   "source": [
    "print(f1_1)\n",
    "print(accuracy_1)"
   ]
  },
  {
   "cell_type": "code",
   "execution_count": null,
   "metadata": {},
   "outputs": [],
   "source": [
    "model_2 = KNeighborsClassifier(4)\n",
    "model_2.fit(petct_train, y_train)"
   ]
  },
  {
   "cell_type": "code",
   "execution_count": null,
   "metadata": {},
   "outputs": [],
   "source": [
    "y_preds_2 = model_2.predict(petct_test)\n",
    "f1_2 = f1(y_test, y_preds_2)\n",
    "accuracy_2 = accuracy(y_test, y_preds_2)"
   ]
  },
  {
   "cell_type": "code",
   "execution_count": null,
   "metadata": {},
   "outputs": [],
   "source": [
    "print(f1_2)\n",
    "print(accuracy_2)"
   ]
  },
  {
   "cell_type": "code",
   "execution_count": null,
   "metadata": {},
   "outputs": [],
   "source": []
  }
 ],
 "metadata": {
  "kernelspec": {
   "display_name": "Python 3",
   "language": "python",
   "name": "python3"
  },
  "language_info": {
   "codemirror_mode": {
    "name": "ipython",
    "version": 3
   },
   "file_extension": ".py",
   "mimetype": "text/x-python",
   "name": "python",
   "nbconvert_exporter": "python",
   "pygments_lexer": "ipython3",
   "version": "3.6.3"
  }
 },
 "nbformat": 4,
 "nbformat_minor": 2
}
